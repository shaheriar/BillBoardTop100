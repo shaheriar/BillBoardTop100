{
  "nbformat": 4,
  "nbformat_minor": 0,
  "metadata": {
    "colab": {
      "name": "TwoBrownBoiz_Billboard_Hits (3).ipynb",
      "provenance": [],
      "collapsed_sections": []
    },
    "kernelspec": {
      "name": "python3",
      "display_name": "Python 3"
    },
    "language_info": {
      "name": "python"
    }
  },
  "cells": [
    {
      "cell_type": "code",
      "metadata": {
        "id": "brABsotBOe2X"
      },
      "source": [
        "# Imports\n",
        "import pandas as pd\n",
        "import numpy as np\n",
        "import matplotlib.pyplot as plt\n",
        "import requests"
      ],
      "execution_count": 14,
      "outputs": []
    },
    {
      "cell_type": "markdown",
      "metadata": {
        "id": "rfqoSsIxqlJA"
      },
      "source": [
        "# Data Gathering and Cleaning:"
      ]
    },
    {
      "cell_type": "code",
      "metadata": {
        "colab": {
          "base_uri": "https://localhost:8080/",
          "height": 419
        },
        "id": "q-AIFaafOvpa",
        "outputId": "45b5ddb2-b53f-48d5-ae03-e150f7b3396c"
      },
      "source": [
        "df = pd.read_csv('billboard_1970-2018.txt', sep='\\t', encoding='mac_roman')\n",
        "df"
      ],
      "execution_count": 15,
      "outputs": [
        {
          "output_type": "execute_result",
          "data": {
            "text/html": [
              "<div>\n",
              "<style scoped>\n",
              "    .dataframe tbody tr th:only-of-type {\n",
              "        vertical-align: middle;\n",
              "    }\n",
              "\n",
              "    .dataframe tbody tr th {\n",
              "        vertical-align: top;\n",
              "    }\n",
              "\n",
              "    .dataframe thead th {\n",
              "        text-align: right;\n",
              "    }\n",
              "</style>\n",
              "<table border=\"1\" class=\"dataframe\">\n",
              "  <thead>\n",
              "    <tr style=\"text-align: right;\">\n",
              "      <th></th>\n",
              "      <th>date</th>\n",
              "      <th>title</th>\n",
              "      <th>artist</th>\n",
              "      <th>rank</th>\n",
              "    </tr>\n",
              "  </thead>\n",
              "  <tbody>\n",
              "    <tr>\n",
              "      <th>0</th>\n",
              "      <td>12/5/1970</td>\n",
              "      <td>And The Grass Won't Pay No Mind</td>\n",
              "      <td>Mark Lindsay</td>\n",
              "      <td>52.0</td>\n",
              "    </tr>\n",
              "    <tr>\n",
              "      <th>1</th>\n",
              "      <td>12/5/1970</td>\n",
              "      <td>Beaucoups Of Blues</td>\n",
              "      <td>Ringo Starr</td>\n",
              "      <td>87.0</td>\n",
              "    </tr>\n",
              "    <tr>\n",
              "      <th>2</th>\n",
              "      <td>12/5/1970</td>\n",
              "      <td>Can't Get Over Losing You</td>\n",
              "      <td>Donnie Elbert</td>\n",
              "      <td>98.0</td>\n",
              "    </tr>\n",
              "    <tr>\n",
              "      <th>3</th>\n",
              "      <td>12/5/1970</td>\n",
              "      <td>Cry Me A River</td>\n",
              "      <td>Joe Cocker</td>\n",
              "      <td>30.0</td>\n",
              "    </tr>\n",
              "    <tr>\n",
              "      <th>4</th>\n",
              "      <td>12/5/1970</td>\n",
              "      <td>Green-Eyed Lady</td>\n",
              "      <td>Sugarloaf</td>\n",
              "      <td>29.0</td>\n",
              "    </tr>\n",
              "    <tr>\n",
              "      <th>...</th>\n",
              "      <td>...</td>\n",
              "      <td>...</td>\n",
              "      <td>...</td>\n",
              "      <td>...</td>\n",
              "    </tr>\n",
              "    <tr>\n",
              "      <th>20103</th>\n",
              "      <td>7/10/2018</td>\n",
              "      <td>Dura</td>\n",
              "      <td>Daddy Yankee</td>\n",
              "      <td>64.0</td>\n",
              "    </tr>\n",
              "    <tr>\n",
              "      <th>20104</th>\n",
              "      <td>7/11/2018</td>\n",
              "      <td>El Farsante</td>\n",
              "      <td>Ozuna &amp; Romeo Santos</td>\n",
              "      <td>91.0</td>\n",
              "    </tr>\n",
              "    <tr>\n",
              "      <th>20105</th>\n",
              "      <td>7/12/2018</td>\n",
              "      <td>Esskeetit</td>\n",
              "      <td>Lil Pump</td>\n",
              "      <td>68.0</td>\n",
              "    </tr>\n",
              "    <tr>\n",
              "      <th>20106</th>\n",
              "      <td>7/13/2018</td>\n",
              "      <td>Everything's Gonna Be Alright</td>\n",
              "      <td>David Lee Murphy &amp; Kenny Chesney</td>\n",
              "      <td>66.0</td>\n",
              "    </tr>\n",
              "    <tr>\n",
              "      <th>20107</th>\n",
              "      <td>7/14/2018</td>\n",
              "      <td>Fake Love</td>\n",
              "      <td>BTS</td>\n",
              "      <td>71.0</td>\n",
              "    </tr>\n",
              "  </tbody>\n",
              "</table>\n",
              "<p>20108 rows × 4 columns</p>\n",
              "</div>"
            ],
            "text/plain": [
              "            date  ...  rank\n",
              "0      12/5/1970  ...  52.0\n",
              "1      12/5/1970  ...  87.0\n",
              "2      12/5/1970  ...  98.0\n",
              "3      12/5/1970  ...  30.0\n",
              "4      12/5/1970  ...  29.0\n",
              "...          ...  ...   ...\n",
              "20103  7/10/2018  ...  64.0\n",
              "20104  7/11/2018  ...  91.0\n",
              "20105  7/12/2018  ...  68.0\n",
              "20106  7/13/2018  ...  66.0\n",
              "20107  7/14/2018  ...  71.0\n",
              "\n",
              "[20108 rows x 4 columns]"
            ]
          },
          "metadata": {},
          "execution_count": 15
        }
      ]
    },
    {
      "cell_type": "code",
      "metadata": {
        "colab": {
          "base_uri": "https://localhost:8080/"
        },
        "id": "Vfrb8SLMQDjU",
        "outputId": "ba105cfb-c0f4-4ab4-8649-332054d35cad"
      },
      "source": [
        "df.date.dtype # Checking what type the 'date' is. Doing so for later conversion"
      ],
      "execution_count": 16,
      "outputs": [
        {
          "output_type": "execute_result",
          "data": {
            "text/plain": [
              "dtype('O')"
            ]
          },
          "metadata": {},
          "execution_count": 16
        }
      ]
    },
    {
      "cell_type": "markdown",
      "metadata": {
        "id": "YOcr6IOlqxeP"
      },
      "source": [
        "### Formatting the date to the correct format instead of string:"
      ]
    },
    {
      "cell_type": "code",
      "metadata": {
        "colab": {
          "base_uri": "https://localhost:8080/",
          "height": 204
        },
        "id": "RcThcM-aQQex",
        "outputId": "98f053bd-66bf-4e08-f7e3-5b43be68f094"
      },
      "source": [
        "df.date = pd.to_datetime(df.date) # Convert to date\n",
        "df.tail()"
      ],
      "execution_count": 17,
      "outputs": [
        {
          "output_type": "execute_result",
          "data": {
            "text/html": [
              "<div>\n",
              "<style scoped>\n",
              "    .dataframe tbody tr th:only-of-type {\n",
              "        vertical-align: middle;\n",
              "    }\n",
              "\n",
              "    .dataframe tbody tr th {\n",
              "        vertical-align: top;\n",
              "    }\n",
              "\n",
              "    .dataframe thead th {\n",
              "        text-align: right;\n",
              "    }\n",
              "</style>\n",
              "<table border=\"1\" class=\"dataframe\">\n",
              "  <thead>\n",
              "    <tr style=\"text-align: right;\">\n",
              "      <th></th>\n",
              "      <th>date</th>\n",
              "      <th>title</th>\n",
              "      <th>artist</th>\n",
              "      <th>rank</th>\n",
              "    </tr>\n",
              "  </thead>\n",
              "  <tbody>\n",
              "    <tr>\n",
              "      <th>20103</th>\n",
              "      <td>2018-07-10</td>\n",
              "      <td>Dura</td>\n",
              "      <td>Daddy Yankee</td>\n",
              "      <td>64.0</td>\n",
              "    </tr>\n",
              "    <tr>\n",
              "      <th>20104</th>\n",
              "      <td>2018-07-11</td>\n",
              "      <td>El Farsante</td>\n",
              "      <td>Ozuna &amp; Romeo Santos</td>\n",
              "      <td>91.0</td>\n",
              "    </tr>\n",
              "    <tr>\n",
              "      <th>20105</th>\n",
              "      <td>2018-07-12</td>\n",
              "      <td>Esskeetit</td>\n",
              "      <td>Lil Pump</td>\n",
              "      <td>68.0</td>\n",
              "    </tr>\n",
              "    <tr>\n",
              "      <th>20106</th>\n",
              "      <td>2018-07-13</td>\n",
              "      <td>Everything's Gonna Be Alright</td>\n",
              "      <td>David Lee Murphy &amp; Kenny Chesney</td>\n",
              "      <td>66.0</td>\n",
              "    </tr>\n",
              "    <tr>\n",
              "      <th>20107</th>\n",
              "      <td>2018-07-14</td>\n",
              "      <td>Fake Love</td>\n",
              "      <td>BTS</td>\n",
              "      <td>71.0</td>\n",
              "    </tr>\n",
              "  </tbody>\n",
              "</table>\n",
              "</div>"
            ],
            "text/plain": [
              "            date  ...  rank\n",
              "20103 2018-07-10  ...  64.0\n",
              "20104 2018-07-11  ...  91.0\n",
              "20105 2018-07-12  ...  68.0\n",
              "20106 2018-07-13  ...  66.0\n",
              "20107 2018-07-14  ...  71.0\n",
              "\n",
              "[5 rows x 4 columns]"
            ]
          },
          "metadata": {},
          "execution_count": 17
        }
      ]
    },
    {
      "cell_type": "code",
      "metadata": {
        "colab": {
          "base_uri": "https://localhost:8080/",
          "height": 450
        },
        "id": "jxd8m1Q_RHvR",
        "outputId": "37b133f9-8783-4e5d-910d-2bffad485192"
      },
      "source": [
        "df = df.set_index(['date']) # setting the date as the index\n",
        "df"
      ],
      "execution_count": 18,
      "outputs": [
        {
          "output_type": "execute_result",
          "data": {
            "text/html": [
              "<div>\n",
              "<style scoped>\n",
              "    .dataframe tbody tr th:only-of-type {\n",
              "        vertical-align: middle;\n",
              "    }\n",
              "\n",
              "    .dataframe tbody tr th {\n",
              "        vertical-align: top;\n",
              "    }\n",
              "\n",
              "    .dataframe thead th {\n",
              "        text-align: right;\n",
              "    }\n",
              "</style>\n",
              "<table border=\"1\" class=\"dataframe\">\n",
              "  <thead>\n",
              "    <tr style=\"text-align: right;\">\n",
              "      <th></th>\n",
              "      <th>title</th>\n",
              "      <th>artist</th>\n",
              "      <th>rank</th>\n",
              "    </tr>\n",
              "    <tr>\n",
              "      <th>date</th>\n",
              "      <th></th>\n",
              "      <th></th>\n",
              "      <th></th>\n",
              "    </tr>\n",
              "  </thead>\n",
              "  <tbody>\n",
              "    <tr>\n",
              "      <th>1970-12-05</th>\n",
              "      <td>And The Grass Won't Pay No Mind</td>\n",
              "      <td>Mark Lindsay</td>\n",
              "      <td>52.0</td>\n",
              "    </tr>\n",
              "    <tr>\n",
              "      <th>1970-12-05</th>\n",
              "      <td>Beaucoups Of Blues</td>\n",
              "      <td>Ringo Starr</td>\n",
              "      <td>87.0</td>\n",
              "    </tr>\n",
              "    <tr>\n",
              "      <th>1970-12-05</th>\n",
              "      <td>Can't Get Over Losing You</td>\n",
              "      <td>Donnie Elbert</td>\n",
              "      <td>98.0</td>\n",
              "    </tr>\n",
              "    <tr>\n",
              "      <th>1970-12-05</th>\n",
              "      <td>Cry Me A River</td>\n",
              "      <td>Joe Cocker</td>\n",
              "      <td>30.0</td>\n",
              "    </tr>\n",
              "    <tr>\n",
              "      <th>1970-12-05</th>\n",
              "      <td>Green-Eyed Lady</td>\n",
              "      <td>Sugarloaf</td>\n",
              "      <td>29.0</td>\n",
              "    </tr>\n",
              "    <tr>\n",
              "      <th>...</th>\n",
              "      <td>...</td>\n",
              "      <td>...</td>\n",
              "      <td>...</td>\n",
              "    </tr>\n",
              "    <tr>\n",
              "      <th>2018-07-10</th>\n",
              "      <td>Dura</td>\n",
              "      <td>Daddy Yankee</td>\n",
              "      <td>64.0</td>\n",
              "    </tr>\n",
              "    <tr>\n",
              "      <th>2018-07-11</th>\n",
              "      <td>El Farsante</td>\n",
              "      <td>Ozuna &amp; Romeo Santos</td>\n",
              "      <td>91.0</td>\n",
              "    </tr>\n",
              "    <tr>\n",
              "      <th>2018-07-12</th>\n",
              "      <td>Esskeetit</td>\n",
              "      <td>Lil Pump</td>\n",
              "      <td>68.0</td>\n",
              "    </tr>\n",
              "    <tr>\n",
              "      <th>2018-07-13</th>\n",
              "      <td>Everything's Gonna Be Alright</td>\n",
              "      <td>David Lee Murphy &amp; Kenny Chesney</td>\n",
              "      <td>66.0</td>\n",
              "    </tr>\n",
              "    <tr>\n",
              "      <th>2018-07-14</th>\n",
              "      <td>Fake Love</td>\n",
              "      <td>BTS</td>\n",
              "      <td>71.0</td>\n",
              "    </tr>\n",
              "  </tbody>\n",
              "</table>\n",
              "<p>20108 rows × 3 columns</p>\n",
              "</div>"
            ],
            "text/plain": [
              "                                      title  ...  rank\n",
              "date                                         ...      \n",
              "1970-12-05  And The Grass Won't Pay No Mind  ...  52.0\n",
              "1970-12-05               Beaucoups Of Blues  ...  87.0\n",
              "1970-12-05        Can't Get Over Losing You  ...  98.0\n",
              "1970-12-05                   Cry Me A River  ...  30.0\n",
              "1970-12-05                  Green-Eyed Lady  ...  29.0\n",
              "...                                     ...  ...   ...\n",
              "2018-07-10                             Dura  ...  64.0\n",
              "2018-07-11                      El Farsante  ...  91.0\n",
              "2018-07-12                        Esskeetit  ...  68.0\n",
              "2018-07-13    Everything's Gonna Be Alright  ...  66.0\n",
              "2018-07-14                        Fake Love  ...  71.0\n",
              "\n",
              "[20108 rows x 3 columns]"
            ]
          },
          "metadata": {},
          "execution_count": 18
        }
      ]
    },
    {
      "cell_type": "markdown",
      "metadata": {
        "id": "YBcgBaEkq30p"
      },
      "source": [
        "### Filtering out the data to only considering songs from the year 2000 onwards:"
      ]
    },
    {
      "cell_type": "code",
      "metadata": {
        "colab": {
          "base_uri": "https://localhost:8080/"
        },
        "id": "SfujHci1Rd1Q",
        "outputId": "7e147989-a357-4f2b-995f-cd218d6f4fb8"
      },
      "source": [
        "print(df.loc['2000-1-1':'2018-7-14']) # Want specific timeframe for songs\n",
        "twok = df.loc['2000-1-1':]"
      ],
      "execution_count": 19,
      "outputs": [
        {
          "output_type": "stream",
          "text": [
            "                                    title  ...   rank\n",
            "date                                       ...       \n",
            "2000-01-01                      Gotta Man  ...   97.0\n",
            "2000-01-01                    NAStradamus  ...  100.0\n",
            "2000-01-01                          Steam  ...   99.0\n",
            "2000-01-01                      Gotta Man  ...   97.0\n",
            "2000-01-01                    NAStradamus  ...  100.0\n",
            "...                                   ...  ...    ...\n",
            "2018-07-10                           Dura  ...   64.0\n",
            "2018-07-11                    El Farsante  ...   91.0\n",
            "2018-07-12                      Esskeetit  ...   68.0\n",
            "2018-07-13  Everything's Gonna Be Alright  ...   66.0\n",
            "2018-07-14                      Fake Love  ...   71.0\n",
            "\n",
            "[7508 rows x 3 columns]\n"
          ],
          "name": "stdout"
        }
      ]
    },
    {
      "cell_type": "code",
      "metadata": {
        "colab": {
          "base_uri": "https://localhost:8080/",
          "height": 450
        },
        "id": "wzMm_gauVkJs",
        "outputId": "51d4a80f-617e-494d-a777-1598cdf53899"
      },
      "source": [
        "twok"
      ],
      "execution_count": 20,
      "outputs": [
        {
          "output_type": "execute_result",
          "data": {
            "text/html": [
              "<div>\n",
              "<style scoped>\n",
              "    .dataframe tbody tr th:only-of-type {\n",
              "        vertical-align: middle;\n",
              "    }\n",
              "\n",
              "    .dataframe tbody tr th {\n",
              "        vertical-align: top;\n",
              "    }\n",
              "\n",
              "    .dataframe thead th {\n",
              "        text-align: right;\n",
              "    }\n",
              "</style>\n",
              "<table border=\"1\" class=\"dataframe\">\n",
              "  <thead>\n",
              "    <tr style=\"text-align: right;\">\n",
              "      <th></th>\n",
              "      <th>title</th>\n",
              "      <th>artist</th>\n",
              "      <th>rank</th>\n",
              "    </tr>\n",
              "    <tr>\n",
              "      <th>date</th>\n",
              "      <th></th>\n",
              "      <th></th>\n",
              "      <th></th>\n",
              "    </tr>\n",
              "  </thead>\n",
              "  <tbody>\n",
              "    <tr>\n",
              "      <th>2000-01-01</th>\n",
              "      <td>Gotta Man</td>\n",
              "      <td>Eve</td>\n",
              "      <td>97.0</td>\n",
              "    </tr>\n",
              "    <tr>\n",
              "      <th>2000-01-01</th>\n",
              "      <td>NAStradamus</td>\n",
              "      <td>Nas</td>\n",
              "      <td>100.0</td>\n",
              "    </tr>\n",
              "    <tr>\n",
              "      <th>2000-01-01</th>\n",
              "      <td>Steam</td>\n",
              "      <td>Ty Herndon</td>\n",
              "      <td>99.0</td>\n",
              "    </tr>\n",
              "    <tr>\n",
              "      <th>2000-01-01</th>\n",
              "      <td>Gotta Man</td>\n",
              "      <td>Eve</td>\n",
              "      <td>97.0</td>\n",
              "    </tr>\n",
              "    <tr>\n",
              "      <th>2000-01-01</th>\n",
              "      <td>NAStradamus</td>\n",
              "      <td>Nas</td>\n",
              "      <td>100.0</td>\n",
              "    </tr>\n",
              "    <tr>\n",
              "      <th>...</th>\n",
              "      <td>...</td>\n",
              "      <td>...</td>\n",
              "      <td>...</td>\n",
              "    </tr>\n",
              "    <tr>\n",
              "      <th>2018-07-10</th>\n",
              "      <td>Dura</td>\n",
              "      <td>Daddy Yankee</td>\n",
              "      <td>64.0</td>\n",
              "    </tr>\n",
              "    <tr>\n",
              "      <th>2018-07-11</th>\n",
              "      <td>El Farsante</td>\n",
              "      <td>Ozuna &amp; Romeo Santos</td>\n",
              "      <td>91.0</td>\n",
              "    </tr>\n",
              "    <tr>\n",
              "      <th>2018-07-12</th>\n",
              "      <td>Esskeetit</td>\n",
              "      <td>Lil Pump</td>\n",
              "      <td>68.0</td>\n",
              "    </tr>\n",
              "    <tr>\n",
              "      <th>2018-07-13</th>\n",
              "      <td>Everything's Gonna Be Alright</td>\n",
              "      <td>David Lee Murphy &amp; Kenny Chesney</td>\n",
              "      <td>66.0</td>\n",
              "    </tr>\n",
              "    <tr>\n",
              "      <th>2018-07-14</th>\n",
              "      <td>Fake Love</td>\n",
              "      <td>BTS</td>\n",
              "      <td>71.0</td>\n",
              "    </tr>\n",
              "  </tbody>\n",
              "</table>\n",
              "<p>7508 rows × 3 columns</p>\n",
              "</div>"
            ],
            "text/plain": [
              "                                    title  ...   rank\n",
              "date                                       ...       \n",
              "2000-01-01                      Gotta Man  ...   97.0\n",
              "2000-01-01                    NAStradamus  ...  100.0\n",
              "2000-01-01                          Steam  ...   99.0\n",
              "2000-01-01                      Gotta Man  ...   97.0\n",
              "2000-01-01                    NAStradamus  ...  100.0\n",
              "...                                   ...  ...    ...\n",
              "2018-07-10                           Dura  ...   64.0\n",
              "2018-07-11                    El Farsante  ...   91.0\n",
              "2018-07-12                      Esskeetit  ...   68.0\n",
              "2018-07-13  Everything's Gonna Be Alright  ...   66.0\n",
              "2018-07-14                      Fake Love  ...   71.0\n",
              "\n",
              "[7508 rows x 3 columns]"
            ]
          },
          "metadata": {},
          "execution_count": 20
        }
      ]
    },
    {
      "cell_type": "code",
      "metadata": {
        "colab": {
          "base_uri": "https://localhost:8080/"
        },
        "id": "rDegyJK1ZcHA",
        "outputId": "3b240c52-6810-494f-e115-5299132d2a7c"
      },
      "source": [
        "pip install spotipy --upgrade"
      ],
      "execution_count": 21,
      "outputs": [
        {
          "output_type": "stream",
          "text": [
            "Requirement already satisfied: spotipy in /usr/local/lib/python3.7/dist-packages (2.19.0)\n",
            "Requirement already satisfied: requests>=2.25.0 in /usr/local/lib/python3.7/dist-packages (from spotipy) (2.26.0)\n",
            "Requirement already satisfied: urllib3>=1.26.0 in /usr/local/lib/python3.7/dist-packages (from spotipy) (1.26.6)\n",
            "Requirement already satisfied: six>=1.15.0 in /usr/local/lib/python3.7/dist-packages (from spotipy) (1.15.0)\n",
            "Requirement already satisfied: idna<4,>=2.5 in /usr/local/lib/python3.7/dist-packages (from requests>=2.25.0->spotipy) (2.10)\n",
            "Requirement already satisfied: charset-normalizer~=2.0.0 in /usr/local/lib/python3.7/dist-packages (from requests>=2.25.0->spotipy) (2.0.4)\n",
            "Requirement already satisfied: certifi>=2017.4.17 in /usr/local/lib/python3.7/dist-packages (from requests>=2.25.0->spotipy) (2021.5.30)\n"
          ],
          "name": "stdout"
        }
      ]
    },
    {
      "cell_type": "markdown",
      "metadata": {
        "id": "kz80415Lq_ik"
      },
      "source": [
        "### Using the Spotify API to gather information about the songs in our dataset:\n",
        "We have hidden the Client ID and Secret ID because it gives access to our personal Spotify accounts."
      ]
    },
    {
      "cell_type": "code",
      "metadata": {
        "id": "bBzS3NvLdEvo"
      },
      "source": [
        "import spotipy\n",
        "from spotipy.oauth2 import SpotifyClientCredentials\n",
        "\n",
        "cid = 'Client ID'\n",
        "secret = 'Secret ID'\n",
        "\n",
        "ccm = SpotifyClientCredentials(client_id=cid, client_secret=secret)\n",
        "sp = spotipy.Spotify(client_credentials_manager = ccm)"
      ],
      "execution_count": 22,
      "outputs": []
    },
    {
      "cell_type": "markdown",
      "metadata": {
        "id": "F6HhkiVmrMPn"
      },
      "source": [
        "### Getting the Spotify ID for all the songs using API calls in a for loop:"
      ]
    },
    {
      "cell_type": "code",
      "metadata": {
        "id": "ivLhc9xLeqDd"
      },
      "source": [
        "trackid = []\n",
        "for i in range(twok.title.count()):\n",
        "  results = sp.search(q='track:' + twok.iloc[i].title + ' artist:' + twok.iloc[i].artist, type='track',limit=1)\n",
        "  if (len(results['tracks']['items']) > 0):\n",
        "    trackid.append(results['tracks']['items'][0]['uri'])\n",
        "  else:\n",
        "    trackid.append('NA')"
      ],
      "execution_count": 23,
      "outputs": []
    },
    {
      "cell_type": "code",
      "metadata": {
        "colab": {
          "base_uri": "https://localhost:8080/"
        },
        "id": "Fx0EUBjpRpSW",
        "outputId": "89891ca1-9aa9-4eda-b7fe-b2025481825a"
      },
      "source": [
        "twok['ID'] = trackid"
      ],
      "execution_count": 24,
      "outputs": [
        {
          "output_type": "stream",
          "text": [
            "/usr/local/lib/python3.7/dist-packages/ipykernel_launcher.py:1: SettingWithCopyWarning: \n",
            "A value is trying to be set on a copy of a slice from a DataFrame.\n",
            "Try using .loc[row_indexer,col_indexer] = value instead\n",
            "\n",
            "See the caveats in the documentation: https://pandas.pydata.org/pandas-docs/stable/user_guide/indexing.html#returning-a-view-versus-a-copy\n",
            "  \"\"\"Entry point for launching an IPython kernel.\n"
          ],
          "name": "stderr"
        }
      ]
    },
    {
      "cell_type": "markdown",
      "metadata": {
        "id": "Yye5YpvwrT8X"
      },
      "source": [
        "### Replacing the null values with NaN and dropping those values\n",
        "since they will not have any information about them on Spotify:"
      ]
    },
    {
      "cell_type": "code",
      "metadata": {
        "colab": {
          "base_uri": "https://localhost:8080/"
        },
        "id": "nRv2WcyzYt5X",
        "outputId": "c7dc85c6-1c63-4e92-b436-b81cdf966181"
      },
      "source": [
        "twok['ID'] = twok['ID'].replace('NA', np.NaN)\n",
        "twok = twok.dropna()"
      ],
      "execution_count": 25,
      "outputs": [
        {
          "output_type": "stream",
          "text": [
            "/usr/local/lib/python3.7/dist-packages/ipykernel_launcher.py:1: SettingWithCopyWarning: \n",
            "A value is trying to be set on a copy of a slice from a DataFrame.\n",
            "Try using .loc[row_indexer,col_indexer] = value instead\n",
            "\n",
            "See the caveats in the documentation: https://pandas.pydata.org/pandas-docs/stable/user_guide/indexing.html#returning-a-view-versus-a-copy\n",
            "  \"\"\"Entry point for launching an IPython kernel.\n"
          ],
          "name": "stderr"
        }
      ]
    },
    {
      "cell_type": "markdown",
      "metadata": {
        "id": "RSlJq6dqra_s"
      },
      "source": [
        "### Getting the information we need by requesting from the API using a for loop and making a query using the Spotify IDs:\n",
        "If there is no information about a particular song we put NaNs instead."
      ]
    },
    {
      "cell_type": "code",
      "metadata": {
        "id": "stoXi6IRZw_e"
      },
      "source": [
        "a = []\n",
        "b = []\n",
        "c = []\n",
        "d = []\n",
        "e = []\n",
        "f = []\n",
        "g = []\n",
        "h = []\n",
        "i = []\n",
        "j = []\n",
        "k = []\n",
        "l = []\n",
        "\n",
        "for z in range(twok['ID'].count()):\n",
        "  features = sp.audio_features(tracks=[twok['ID'][z]])\n",
        "  if (features[0] != None):\n",
        "    a.append(features[0]['acousticness'])\n",
        "    b.append(features[0]['danceability'])\n",
        "    c.append(features[0]['duration_ms'])\n",
        "    d.append(features[0]['energy'])\n",
        "    e.append(features[0]['instrumentalness'])\n",
        "    f.append(features[0]['key'])\n",
        "    g.append(features[0]['liveness'])\n",
        "    h.append(features[0]['loudness'])\n",
        "    i.append(features[0]['speechiness'])\n",
        "    j.append(features[0]['tempo'])\n",
        "    k.append(features[0]['time_signature'])\n",
        "    l.append(features[0]['mode'])\n",
        "  else:\n",
        "    a.append(np.NaN)\n",
        "    b.append(np.NaN)\n",
        "    c.append(np.NaN)\n",
        "    d.append(np.NaN)\n",
        "    e.append(np.NaN)\n",
        "    f.append(np.NaN)\n",
        "    g.append(np.NaN)\n",
        "    h.append(np.NaN)\n",
        "    i.append(np.NaN)\n",
        "    j.append(np.NaN)\n",
        "    k.append(np.NaN)\n",
        "    l.append(np.NaN)"
      ],
      "execution_count": 26,
      "outputs": []
    },
    {
      "cell_type": "code",
      "metadata": {
        "colab": {
          "base_uri": "https://localhost:8080/",
          "height": 1000
        },
        "id": "N3e5vuQcm1vg",
        "outputId": "55ce46f0-8dfa-4054-de6f-a4910d6fbf2f"
      },
      "source": [
        "twok['acousticness'] = a\n",
        "twok['danceability'] = b\n",
        "twok['duration_ms'] = c\n",
        "twok['energy'] = d\n",
        "twok['instrumentalness'] = e\n",
        "twok['key'] = f\n",
        "twok['liveness'] = g\n",
        "twok['loudness'] = h\n",
        "twok['speechiness'] = i\n",
        "twok['tempo'] = j\n",
        "twok['time_signature'] = k\n",
        "twok['mode'] = l\n",
        "twok"
      ],
      "execution_count": 27,
      "outputs": [
        {
          "output_type": "stream",
          "text": [
            "/usr/local/lib/python3.7/dist-packages/ipykernel_launcher.py:1: SettingWithCopyWarning: \n",
            "A value is trying to be set on a copy of a slice from a DataFrame.\n",
            "Try using .loc[row_indexer,col_indexer] = value instead\n",
            "\n",
            "See the caveats in the documentation: https://pandas.pydata.org/pandas-docs/stable/user_guide/indexing.html#returning-a-view-versus-a-copy\n",
            "  \"\"\"Entry point for launching an IPython kernel.\n",
            "/usr/local/lib/python3.7/dist-packages/ipykernel_launcher.py:2: SettingWithCopyWarning: \n",
            "A value is trying to be set on a copy of a slice from a DataFrame.\n",
            "Try using .loc[row_indexer,col_indexer] = value instead\n",
            "\n",
            "See the caveats in the documentation: https://pandas.pydata.org/pandas-docs/stable/user_guide/indexing.html#returning-a-view-versus-a-copy\n",
            "  \n",
            "/usr/local/lib/python3.7/dist-packages/ipykernel_launcher.py:3: SettingWithCopyWarning: \n",
            "A value is trying to be set on a copy of a slice from a DataFrame.\n",
            "Try using .loc[row_indexer,col_indexer] = value instead\n",
            "\n",
            "See the caveats in the documentation: https://pandas.pydata.org/pandas-docs/stable/user_guide/indexing.html#returning-a-view-versus-a-copy\n",
            "  This is separate from the ipykernel package so we can avoid doing imports until\n",
            "/usr/local/lib/python3.7/dist-packages/ipykernel_launcher.py:4: SettingWithCopyWarning: \n",
            "A value is trying to be set on a copy of a slice from a DataFrame.\n",
            "Try using .loc[row_indexer,col_indexer] = value instead\n",
            "\n",
            "See the caveats in the documentation: https://pandas.pydata.org/pandas-docs/stable/user_guide/indexing.html#returning-a-view-versus-a-copy\n",
            "  after removing the cwd from sys.path.\n",
            "/usr/local/lib/python3.7/dist-packages/ipykernel_launcher.py:5: SettingWithCopyWarning: \n",
            "A value is trying to be set on a copy of a slice from a DataFrame.\n",
            "Try using .loc[row_indexer,col_indexer] = value instead\n",
            "\n",
            "See the caveats in the documentation: https://pandas.pydata.org/pandas-docs/stable/user_guide/indexing.html#returning-a-view-versus-a-copy\n",
            "  \"\"\"\n",
            "/usr/local/lib/python3.7/dist-packages/ipykernel_launcher.py:6: SettingWithCopyWarning: \n",
            "A value is trying to be set on a copy of a slice from a DataFrame.\n",
            "Try using .loc[row_indexer,col_indexer] = value instead\n",
            "\n",
            "See the caveats in the documentation: https://pandas.pydata.org/pandas-docs/stable/user_guide/indexing.html#returning-a-view-versus-a-copy\n",
            "  \n",
            "/usr/local/lib/python3.7/dist-packages/ipykernel_launcher.py:7: SettingWithCopyWarning: \n",
            "A value is trying to be set on a copy of a slice from a DataFrame.\n",
            "Try using .loc[row_indexer,col_indexer] = value instead\n",
            "\n",
            "See the caveats in the documentation: https://pandas.pydata.org/pandas-docs/stable/user_guide/indexing.html#returning-a-view-versus-a-copy\n",
            "  import sys\n",
            "/usr/local/lib/python3.7/dist-packages/ipykernel_launcher.py:8: SettingWithCopyWarning: \n",
            "A value is trying to be set on a copy of a slice from a DataFrame.\n",
            "Try using .loc[row_indexer,col_indexer] = value instead\n",
            "\n",
            "See the caveats in the documentation: https://pandas.pydata.org/pandas-docs/stable/user_guide/indexing.html#returning-a-view-versus-a-copy\n",
            "  \n",
            "/usr/local/lib/python3.7/dist-packages/ipykernel_launcher.py:9: SettingWithCopyWarning: \n",
            "A value is trying to be set on a copy of a slice from a DataFrame.\n",
            "Try using .loc[row_indexer,col_indexer] = value instead\n",
            "\n",
            "See the caveats in the documentation: https://pandas.pydata.org/pandas-docs/stable/user_guide/indexing.html#returning-a-view-versus-a-copy\n",
            "  if __name__ == '__main__':\n",
            "/usr/local/lib/python3.7/dist-packages/ipykernel_launcher.py:10: SettingWithCopyWarning: \n",
            "A value is trying to be set on a copy of a slice from a DataFrame.\n",
            "Try using .loc[row_indexer,col_indexer] = value instead\n",
            "\n",
            "See the caveats in the documentation: https://pandas.pydata.org/pandas-docs/stable/user_guide/indexing.html#returning-a-view-versus-a-copy\n",
            "  # Remove the CWD from sys.path while we load stuff.\n",
            "/usr/local/lib/python3.7/dist-packages/ipykernel_launcher.py:11: SettingWithCopyWarning: \n",
            "A value is trying to be set on a copy of a slice from a DataFrame.\n",
            "Try using .loc[row_indexer,col_indexer] = value instead\n",
            "\n",
            "See the caveats in the documentation: https://pandas.pydata.org/pandas-docs/stable/user_guide/indexing.html#returning-a-view-versus-a-copy\n",
            "  # This is added back by InteractiveShellApp.init_path()\n",
            "/usr/local/lib/python3.7/dist-packages/ipykernel_launcher.py:12: SettingWithCopyWarning: \n",
            "A value is trying to be set on a copy of a slice from a DataFrame.\n",
            "Try using .loc[row_indexer,col_indexer] = value instead\n",
            "\n",
            "See the caveats in the documentation: https://pandas.pydata.org/pandas-docs/stable/user_guide/indexing.html#returning-a-view-versus-a-copy\n",
            "  if sys.path[0] == '':\n"
          ],
          "name": "stderr"
        },
        {
          "output_type": "execute_result",
          "data": {
            "text/html": [
              "<div>\n",
              "<style scoped>\n",
              "    .dataframe tbody tr th:only-of-type {\n",
              "        vertical-align: middle;\n",
              "    }\n",
              "\n",
              "    .dataframe tbody tr th {\n",
              "        vertical-align: top;\n",
              "    }\n",
              "\n",
              "    .dataframe thead th {\n",
              "        text-align: right;\n",
              "    }\n",
              "</style>\n",
              "<table border=\"1\" class=\"dataframe\">\n",
              "  <thead>\n",
              "    <tr style=\"text-align: right;\">\n",
              "      <th></th>\n",
              "      <th>title</th>\n",
              "      <th>artist</th>\n",
              "      <th>rank</th>\n",
              "      <th>ID</th>\n",
              "      <th>acousticness</th>\n",
              "      <th>danceability</th>\n",
              "      <th>duration_ms</th>\n",
              "      <th>energy</th>\n",
              "      <th>instrumentalness</th>\n",
              "      <th>key</th>\n",
              "      <th>liveness</th>\n",
              "      <th>loudness</th>\n",
              "      <th>speechiness</th>\n",
              "      <th>tempo</th>\n",
              "      <th>time_signature</th>\n",
              "      <th>mode</th>\n",
              "    </tr>\n",
              "    <tr>\n",
              "      <th>date</th>\n",
              "      <th></th>\n",
              "      <th></th>\n",
              "      <th></th>\n",
              "      <th></th>\n",
              "      <th></th>\n",
              "      <th></th>\n",
              "      <th></th>\n",
              "      <th></th>\n",
              "      <th></th>\n",
              "      <th></th>\n",
              "      <th></th>\n",
              "      <th></th>\n",
              "      <th></th>\n",
              "      <th></th>\n",
              "      <th></th>\n",
              "      <th></th>\n",
              "    </tr>\n",
              "  </thead>\n",
              "  <tbody>\n",
              "    <tr>\n",
              "      <th>2000-01-01</th>\n",
              "      <td>Gotta Man</td>\n",
              "      <td>Eve</td>\n",
              "      <td>97.0</td>\n",
              "      <td>spotify:track:5GDzpCJAhKjfzMEiXpYdhl</td>\n",
              "      <td>0.165000</td>\n",
              "      <td>0.800</td>\n",
              "      <td>264733.0</td>\n",
              "      <td>0.867</td>\n",
              "      <td>0.000352</td>\n",
              "      <td>5.0</td>\n",
              "      <td>0.1140</td>\n",
              "      <td>-4.001</td>\n",
              "      <td>0.1330</td>\n",
              "      <td>90.530</td>\n",
              "      <td>4.0</td>\n",
              "      <td>0.0</td>\n",
              "    </tr>\n",
              "    <tr>\n",
              "      <th>2000-01-01</th>\n",
              "      <td>NAStradamus</td>\n",
              "      <td>Nas</td>\n",
              "      <td>100.0</td>\n",
              "      <td>spotify:track:5IUceLAshLX0OSTAdSLcPv</td>\n",
              "      <td>0.000484</td>\n",
              "      <td>0.823</td>\n",
              "      <td>251933.0</td>\n",
              "      <td>0.620</td>\n",
              "      <td>0.000000</td>\n",
              "      <td>8.0</td>\n",
              "      <td>0.4940</td>\n",
              "      <td>-8.002</td>\n",
              "      <td>0.3290</td>\n",
              "      <td>90.570</td>\n",
              "      <td>4.0</td>\n",
              "      <td>1.0</td>\n",
              "    </tr>\n",
              "    <tr>\n",
              "      <th>2000-01-01</th>\n",
              "      <td>Steam</td>\n",
              "      <td>Ty Herndon</td>\n",
              "      <td>99.0</td>\n",
              "      <td>spotify:track:2sPXJCnKyQ1SWjc2JdFnQK</td>\n",
              "      <td>0.049700</td>\n",
              "      <td>0.676</td>\n",
              "      <td>216693.0</td>\n",
              "      <td>0.738</td>\n",
              "      <td>0.000003</td>\n",
              "      <td>6.0</td>\n",
              "      <td>0.0784</td>\n",
              "      <td>-6.693</td>\n",
              "      <td>0.0262</td>\n",
              "      <td>101.944</td>\n",
              "      <td>4.0</td>\n",
              "      <td>1.0</td>\n",
              "    </tr>\n",
              "    <tr>\n",
              "      <th>2000-01-01</th>\n",
              "      <td>Gotta Man</td>\n",
              "      <td>Eve</td>\n",
              "      <td>97.0</td>\n",
              "      <td>spotify:track:5GDzpCJAhKjfzMEiXpYdhl</td>\n",
              "      <td>0.165000</td>\n",
              "      <td>0.800</td>\n",
              "      <td>264733.0</td>\n",
              "      <td>0.867</td>\n",
              "      <td>0.000352</td>\n",
              "      <td>5.0</td>\n",
              "      <td>0.1140</td>\n",
              "      <td>-4.001</td>\n",
              "      <td>0.1330</td>\n",
              "      <td>90.530</td>\n",
              "      <td>4.0</td>\n",
              "      <td>0.0</td>\n",
              "    </tr>\n",
              "    <tr>\n",
              "      <th>2000-01-01</th>\n",
              "      <td>NAStradamus</td>\n",
              "      <td>Nas</td>\n",
              "      <td>100.0</td>\n",
              "      <td>spotify:track:5IUceLAshLX0OSTAdSLcPv</td>\n",
              "      <td>0.000484</td>\n",
              "      <td>0.823</td>\n",
              "      <td>251933.0</td>\n",
              "      <td>0.620</td>\n",
              "      <td>0.000000</td>\n",
              "      <td>8.0</td>\n",
              "      <td>0.4940</td>\n",
              "      <td>-8.002</td>\n",
              "      <td>0.3290</td>\n",
              "      <td>90.570</td>\n",
              "      <td>4.0</td>\n",
              "      <td>1.0</td>\n",
              "    </tr>\n",
              "    <tr>\n",
              "      <th>...</th>\n",
              "      <td>...</td>\n",
              "      <td>...</td>\n",
              "      <td>...</td>\n",
              "      <td>...</td>\n",
              "      <td>...</td>\n",
              "      <td>...</td>\n",
              "      <td>...</td>\n",
              "      <td>...</td>\n",
              "      <td>...</td>\n",
              "      <td>...</td>\n",
              "      <td>...</td>\n",
              "      <td>...</td>\n",
              "      <td>...</td>\n",
              "      <td>...</td>\n",
              "      <td>...</td>\n",
              "      <td>...</td>\n",
              "    </tr>\n",
              "    <tr>\n",
              "      <th>2018-07-05</th>\n",
              "      <td>Cudi Montage</td>\n",
              "      <td>KIDS SEE GHOSTS</td>\n",
              "      <td>69.0</td>\n",
              "      <td>spotify:track:4kUZvXB3LC3an3HX6h0s17</td>\n",
              "      <td>0.401000</td>\n",
              "      <td>0.729</td>\n",
              "      <td>197001.0</td>\n",
              "      <td>0.504</td>\n",
              "      <td>0.000001</td>\n",
              "      <td>8.0</td>\n",
              "      <td>0.1210</td>\n",
              "      <td>-6.784</td>\n",
              "      <td>0.0321</td>\n",
              "      <td>110.011</td>\n",
              "      <td>4.0</td>\n",
              "      <td>0.0</td>\n",
              "    </tr>\n",
              "    <tr>\n",
              "      <th>2018-07-07</th>\n",
              "      <td>Delicate</td>\n",
              "      <td>Taylor Swift</td>\n",
              "      <td>25.0</td>\n",
              "      <td>spotify:track:6NFyWDv5CjfwuzoCkw47Xf</td>\n",
              "      <td>0.216000</td>\n",
              "      <td>0.750</td>\n",
              "      <td>232253.0</td>\n",
              "      <td>0.404</td>\n",
              "      <td>0.000357</td>\n",
              "      <td>9.0</td>\n",
              "      <td>0.0911</td>\n",
              "      <td>-10.178</td>\n",
              "      <td>0.0682</td>\n",
              "      <td>95.045</td>\n",
              "      <td>4.0</td>\n",
              "      <td>0.0</td>\n",
              "    </tr>\n",
              "    <tr>\n",
              "      <th>2018-07-10</th>\n",
              "      <td>Dura</td>\n",
              "      <td>Daddy Yankee</td>\n",
              "      <td>64.0</td>\n",
              "      <td>spotify:track:03w7ochPxgbi9W70aaF3BB</td>\n",
              "      <td>0.174000</td>\n",
              "      <td>0.783</td>\n",
              "      <td>200480.0</td>\n",
              "      <td>0.840</td>\n",
              "      <td>0.000000</td>\n",
              "      <td>1.0</td>\n",
              "      <td>0.4120</td>\n",
              "      <td>-3.416</td>\n",
              "      <td>0.0510</td>\n",
              "      <td>95.002</td>\n",
              "      <td>4.0</td>\n",
              "      <td>1.0</td>\n",
              "    </tr>\n",
              "    <tr>\n",
              "      <th>2018-07-12</th>\n",
              "      <td>Esskeetit</td>\n",
              "      <td>Lil Pump</td>\n",
              "      <td>68.0</td>\n",
              "      <td>spotify:track:44KKhCyI0BGS6LvVyDqJtH</td>\n",
              "      <td>0.022900</td>\n",
              "      <td>0.934</td>\n",
              "      <td>181714.0</td>\n",
              "      <td>0.505</td>\n",
              "      <td>0.000000</td>\n",
              "      <td>11.0</td>\n",
              "      <td>0.0867</td>\n",
              "      <td>-7.648</td>\n",
              "      <td>0.1680</td>\n",
              "      <td>139.930</td>\n",
              "      <td>4.0</td>\n",
              "      <td>1.0</td>\n",
              "    </tr>\n",
              "    <tr>\n",
              "      <th>2018-07-14</th>\n",
              "      <td>Fake Love</td>\n",
              "      <td>BTS</td>\n",
              "      <td>71.0</td>\n",
              "      <td>spotify:track:3aW0ds4A4tSQDIp75FqWTo</td>\n",
              "      <td>0.002670</td>\n",
              "      <td>0.557</td>\n",
              "      <td>242334.0</td>\n",
              "      <td>0.719</td>\n",
              "      <td>0.000000</td>\n",
              "      <td>2.0</td>\n",
              "      <td>0.3060</td>\n",
              "      <td>-4.515</td>\n",
              "      <td>0.0372</td>\n",
              "      <td>77.501</td>\n",
              "      <td>4.0</td>\n",
              "      <td>0.0</td>\n",
              "    </tr>\n",
              "  </tbody>\n",
              "</table>\n",
              "<p>5267 rows × 16 columns</p>\n",
              "</div>"
            ],
            "text/plain": [
              "                   title           artist   rank  ...    tempo  time_signature  mode\n",
              "date                                              ...                               \n",
              "2000-01-01     Gotta Man              Eve   97.0  ...   90.530             4.0   0.0\n",
              "2000-01-01   NAStradamus              Nas  100.0  ...   90.570             4.0   1.0\n",
              "2000-01-01         Steam       Ty Herndon   99.0  ...  101.944             4.0   1.0\n",
              "2000-01-01     Gotta Man              Eve   97.0  ...   90.530             4.0   0.0\n",
              "2000-01-01   NAStradamus              Nas  100.0  ...   90.570             4.0   1.0\n",
              "...                  ...              ...    ...  ...      ...             ...   ...\n",
              "2018-07-05  Cudi Montage  KIDS SEE GHOSTS   69.0  ...  110.011             4.0   0.0\n",
              "2018-07-07      Delicate     Taylor Swift   25.0  ...   95.045             4.0   0.0\n",
              "2018-07-10          Dura     Daddy Yankee   64.0  ...   95.002             4.0   1.0\n",
              "2018-07-12     Esskeetit         Lil Pump   68.0  ...  139.930             4.0   1.0\n",
              "2018-07-14     Fake Love              BTS   71.0  ...   77.501             4.0   0.0\n",
              "\n",
              "[5267 rows x 16 columns]"
            ]
          },
          "metadata": {},
          "execution_count": 27
        }
      ]
    },
    {
      "cell_type": "markdown",
      "metadata": {
        "id": "0azEdXIHr2uZ"
      },
      "source": [
        "### Saving the progress in an updated csv file so we don't have to run the loops again since they took very long:"
      ]
    },
    {
      "cell_type": "code",
      "metadata": {
        "id": "Akc9xy23sNeN"
      },
      "source": [
        "twok.to_csv('updated_twok.csv')"
      ],
      "execution_count": 28,
      "outputs": []
    },
    {
      "cell_type": "code",
      "metadata": {
        "id": "LVNupx3dZbAD"
      },
      "source": [
        "# https://medium.com/@maxtingle/getting-started-with-spotifys-api-spotipy-197c3dc6353b\n",
        "# https://developer.spotify.com/dashboard/applications"
      ],
      "execution_count": 29,
      "outputs": []
    },
    {
      "cell_type": "markdown",
      "metadata": {
        "id": "k95exE0ezUUQ"
      },
      "source": [
        "## Examining the Data\n",
        "\n",
        "Now we began actually looking at some of the trends of popular music!\n"
      ]
    },
    {
      "cell_type": "code",
      "metadata": {
        "colab": {
          "base_uri": "https://localhost:8080/"
        },
        "id": "AVDbggL9zcc1",
        "outputId": "d470b1e3-ac17-4d8f-eff8-0c51b57fde25"
      },
      "source": [
        "up_twok = pd.read_csv('updated_twok.csv')\n",
        "up_twok['tempo'] = up_twok['tempo'].round(0)\n",
        "up_twok['rank'].describe()"
      ],
      "execution_count": 30,
      "outputs": [
        {
          "output_type": "execute_result",
          "data": {
            "text/plain": [
              "count    5267.000000\n",
              "mean       77.146003\n",
              "std        21.480685\n",
              "min         1.000000\n",
              "25%        57.000000\n",
              "50%        86.000000\n",
              "75%        95.000000\n",
              "max       100.000000\n",
              "Name: rank, dtype: float64"
            ]
          },
          "metadata": {},
          "execution_count": 30
        }
      ]
    },
    {
      "cell_type": "markdown",
      "metadata": {
        "id": "BpHmDOPe00FV"
      },
      "source": [
        "## Feature Explanation\n",
        "\n",
        "`acousticness - Float` : A confidence measure from 0.0 to 1.0 of whether the track is acoustic. 1.0 represents high confidence the track is acoustic.\n",
        "\n",
        "`danceability - Float` : Danceability describes how suitable a track is for dancing based on a combination of musical elements including tempo, rhythm stability, beat strength, and overall regularity. A value of 0.0 is least danceable and 1.0 is most danceable.\n",
        "\n",
        "`duration_ms - Integer` : The duration of the track in milliseconds.\n",
        "\n",
        "`energy - Float` : Energy is a measure from 0.0 to 1.0 and represents a perceptual measure of intensity and activity. Typically, energetic tracks feel fast, loud, and noisy. For example, death metal has high energy, while a Bach prelude scores low on the scale. Perceptual features contributing to this attribute include dynamic range, perceived loudness, timbre, onset rate, and general entropy.\n",
        "\n",
        "`instrumentalness - Float` : Predicts whether a track contains no vocals. “Ooh” and “aah” sounds are treated as instrumental in this context. Rap or spoken word tracks are clearly “vocal”. The closer the instrumentalness value is to 1.0, the greater likelihood the track contains no vocal content. Values above 0.5 are intended to represent instrumental tracks, but confidence is higher as the value approaches 1.0.\n",
        "\n",
        "`key - Integer` : The key the track is in. Integers map to pitches using standard Pitch Class notation . E.g. 0 = C, 1 = C♯/D♭, 2 = D, and so on.\n",
        "\n",
        "`liveness - Float` : Detects the presence of an audience in the recording. Higher liveness values represent an increased probability that the track was performed live. A value above 0.8 provides strong likelihood that the track is live.\n",
        "\n",
        "`loudness - Float` : The overall loudness of a track in decibels (dB). Loudness values are averaged across the entire track and are useful for comparing relative loudness of tracks. Loudness is the quality of a sound that is the primary psychological correlate of physical strength (amplitude). Values typical range between -60 and 0 db.\n",
        "\n",
        "`speechiness - Float` : Speechiness detects the presence of spoken words in a track. The more exclusively speech-like the recording (e.g. talk show, audio book, poetry), the closer to 1.0 the attribute value. Values above 0.66 describe tracks that are probably made entirely of spoken words. Values between 0.33 and 0.66 describe tracks that may contain both music and speech, either in sections or layered, including such cases as rap music. Values below 0.33 most likely represent music and other non-speech-like tracks.\n",
        "\n",
        "`tempo - Float` : The overall estimated tempo of a track in beats per minute (BPM). In musical terminology, tempo is the speed or pace of a given piece and derives directly from the average beat duration. \n",
        "\n",
        "`time_signature - Integer` : An estimated overall time signature of a track. The time signature (meter) is a notational convention to specify how many beats are in each bar (or measure)\n",
        "\n",
        "`mode - Integer` : Mode indicates the modality (major or minor) of a track, the type of scale from which its melodic content is derived. Major is represented by 1 and minor is 0."
      ]
    },
    {
      "cell_type": "code",
      "metadata": {
        "colab": {
          "base_uri": "https://localhost:8080/",
          "height": 282
        },
        "id": "Vvf5lnFZ8tqQ",
        "outputId": "b2e3a0df-ce17-45e9-a149-5254a14b84f1"
      },
      "source": [
        "up_twok['acousticness'].plot(kind='hist') # Majority not acoustic (or found to not be acoustic)"
      ],
      "execution_count": 31,
      "outputs": [
        {
          "output_type": "execute_result",
          "data": {
            "text/plain": [
              "<matplotlib.axes._subplots.AxesSubplot at 0x7f230041ee10>"
            ]
          },
          "metadata": {},
          "execution_count": 31
        },
        {
          "output_type": "display_data",
          "data": {
            "image/png": "[encoded data removed]",
            "text/plain": [
              "<Figure size 432x288 with 1 Axes>"
            ]
          },
          "metadata": {
            "needs_background": "light"
          }
        }
      ]
    },
    {
      "cell_type": "code",
      "metadata": {
        "colab": {
          "base_uri": "https://localhost:8080/",
          "height": 435
        },
        "id": "N58BQU6H7MRQ",
        "outputId": "10386cf7-236b-42f5-d3d9-7a50145c47ba"
      },
      "source": [
        "print(up_twok['danceability'].describe())\n",
        "up_twok['danceability'].plot(kind='hist') # Danceability is pretty average"
      ],
      "execution_count": 32,
      "outputs": [
        {
          "output_type": "stream",
          "text": [
            "count    5265.000000\n",
            "mean        0.607803\n",
            "std         0.145849\n",
            "min         0.113000\n",
            "25%         0.510000\n",
            "50%         0.610000\n",
            "75%         0.706000\n",
            "max         0.981000\n",
            "Name: danceability, dtype: float64\n"
          ],
          "name": "stdout"
        },
        {
          "output_type": "execute_result",
          "data": {
            "text/plain": [
              "<matplotlib.axes._subplots.AxesSubplot at 0x7f23003678d0>"
            ]
          },
          "metadata": {},
          "execution_count": 32
        },
        {
          "output_type": "display_data",
          "data": {
            "image/png": "[encoded data removed]",
            "text/plain": [
              "<Figure size 432x288 with 1 Axes>"
            ]
          },
          "metadata": {
            "needs_background": "light"
          }
        }
      ]
    },
    {
      "cell_type": "code",
      "metadata": {
        "colab": {
          "base_uri": "https://localhost:8080/",
          "height": 435
        },
        "id": "Mi87w4NsUUfj",
        "outputId": "c87937f2-fc29-4815-be0f-5d12bc370cd8"
      },
      "source": [
        "# Changing the duration in ms to Minutes\n",
        "up_twok['duration'] = up_twok['duration_ms'] / 60000;\n",
        "print(up_twok['duration'].describe())\n",
        "up_twok['duration'].plot(kind='hist')"
      ],
      "execution_count": 33,
      "outputs": [
        {
          "output_type": "stream",
          "text": [
            "count    5265.000000\n",
            "mean        3.840098\n",
            "std         0.780745\n",
            "min         0.770883\n",
            "25%         3.375333\n",
            "50%         3.751783\n",
            "75%         4.188067\n",
            "max        16.536000\n",
            "Name: duration, dtype: float64\n"
          ],
          "name": "stdout"
        },
        {
          "output_type": "execute_result",
          "data": {
            "text/plain": [
              "<matplotlib.axes._subplots.AxesSubplot at 0x7f22ffe557d0>"
            ]
          },
          "metadata": {},
          "execution_count": 33
        },
        {
          "output_type": "display_data",
          "data": {
            "image/png": "[encoded data removed]",
            "text/plain": [
              "<Figure size 432x288 with 1 Axes>"
            ]
          },
          "metadata": {
            "needs_background": "light"
          }
        }
      ]
    },
    {
      "cell_type": "code",
      "metadata": {
        "colab": {
          "base_uri": "https://localhost:8080/",
          "height": 435
        },
        "id": "rF67D1rGVKEY",
        "outputId": "6b24fdc6-b8b3-4011-c32e-279ea687369a"
      },
      "source": [
        "print(up_twok['energy'].describe())\n",
        "up_twok['energy'].plot(kind='hist')"
      ],
      "execution_count": 34,
      "outputs": [
        {
          "output_type": "stream",
          "text": [
            "count    5265.000000\n",
            "mean        0.696572\n",
            "std         0.178639\n",
            "min         0.056500\n",
            "25%         0.575000\n",
            "50%         0.723000\n",
            "75%         0.839000\n",
            "max         0.996000\n",
            "Name: energy, dtype: float64\n"
          ],
          "name": "stdout"
        },
        {
          "output_type": "execute_result",
          "data": {
            "text/plain": [
              "<matplotlib.axes._subplots.AxesSubplot at 0x7f22ffd70690>"
            ]
          },
          "metadata": {},
          "execution_count": 34
        },
        {
          "output_type": "display_data",
          "data": {
            "image/png": "[encoded data removed]",
            "text/plain": [
              "<Figure size 432x288 with 1 Axes>"
            ]
          },
          "metadata": {
            "needs_background": "light"
          }
        }
      ]
    },
    {
      "cell_type": "code",
      "metadata": {
        "colab": {
          "base_uri": "https://localhost:8080/",
          "height": 435
        },
        "id": "lnDal7s67Ttb",
        "outputId": "8c308b6d-2675-4639-fd7e-698285ce8292"
      },
      "source": [
        "print(up_twok['instrumentalness'].describe());\n",
        "up_twok['instrumentalness'].plot(kind='hist') # Wow that's crazy"
      ],
      "execution_count": 35,
      "outputs": [
        {
          "output_type": "stream",
          "text": [
            "count    5265.000000\n",
            "mean        0.010579\n",
            "std         0.075479\n",
            "min         0.000000\n",
            "25%         0.000000\n",
            "50%         0.000000\n",
            "75%         0.000031\n",
            "max         0.982000\n",
            "Name: instrumentalness, dtype: float64\n"
          ],
          "name": "stdout"
        },
        {
          "output_type": "execute_result",
          "data": {
            "text/plain": [
              "<matplotlib.axes._subplots.AxesSubplot at 0x7f22ffdca190>"
            ]
          },
          "metadata": {},
          "execution_count": 35
        },
        {
          "output_type": "display_data",
          "data": {
            "image/png": "[encoded data removed]",
            "text/plain": [
              "<Figure size 432x288 with 1 Axes>"
            ]
          },
          "metadata": {
            "needs_background": "light"
          }
        }
      ]
    },
    {
      "cell_type": "code",
      "metadata": {
        "colab": {
          "base_uri": "https://localhost:8080/",
          "height": 503
        },
        "id": "Hg13RF22WlEU",
        "outputId": "23e3252c-a64c-42e3-9495-909a9db542e6"
      },
      "source": [
        "print(up_twok['key'].value_counts());\n",
        "up_twok['key'].plot(kind='hist') # E.g. 0 = C, 1 = C♯/D♭, 2 = D, and so on.\n",
        "# Majority of songs are in the key of 'C' \n",
        "# B is a\n",
        "# Thing to note is that the far majority use non-sharp / flat keys"
      ],
      "execution_count": 36,
      "outputs": [
        {
          "output_type": "stream",
          "text": [
            "1.0     590\n",
            "0.0     583\n",
            "7.0     569\n",
            "2.0     519\n",
            "9.0     457\n",
            "11.0    426\n",
            "4.0     418\n",
            "5.0     411\n",
            "6.0     404\n",
            "8.0     392\n",
            "10.0    337\n",
            "3.0     159\n",
            "Name: key, dtype: int64\n"
          ],
          "name": "stdout"
        },
        {
          "output_type": "execute_result",
          "data": {
            "text/plain": [
              "<matplotlib.axes._subplots.AxesSubplot at 0x7f22ffc7f550>"
            ]
          },
          "metadata": {},
          "execution_count": 36
        },
        {
          "output_type": "display_data",
          "data": {
            "image/png": "[encoded data removed]",
            "text/plain": [
              "<Figure size 432x288 with 1 Axes>"
            ]
          },
          "metadata": {
            "needs_background": "light"
          }
        }
      ]
    },
    {
      "cell_type": "code",
      "metadata": {
        "colab": {
          "base_uri": "https://localhost:8080/",
          "height": 435
        },
        "id": "sTzJIcCdYecI",
        "outputId": "ea8bc876-76c6-421e-fd6f-d470980f480d"
      },
      "source": [
        "print(up_twok['liveness'].describe())\n",
        "up_twok['liveness'].plot(kind='hist') #"
      ],
      "execution_count": 37,
      "outputs": [
        {
          "output_type": "stream",
          "text": [
            "count    5265.000000\n",
            "mean        0.182085\n",
            "std         0.140467\n",
            "min         0.019300\n",
            "25%         0.093700\n",
            "50%         0.126000\n",
            "75%         0.235000\n",
            "max         0.985000\n",
            "Name: liveness, dtype: float64\n"
          ],
          "name": "stdout"
        },
        {
          "output_type": "execute_result",
          "data": {
            "text/plain": [
              "<matplotlib.axes._subplots.AxesSubplot at 0x7f22ffbf2d90>"
            ]
          },
          "metadata": {},
          "execution_count": 37
        },
        {
          "output_type": "display_data",
          "data": {
            "image/png": "[encoded data removed]",
            "text/plain": [
              "<Figure size 432x288 with 1 Axes>"
            ]
          },
          "metadata": {
            "needs_background": "light"
          }
        }
      ]
    },
    {
      "cell_type": "code",
      "metadata": {
        "colab": {
          "base_uri": "https://localhost:8080/",
          "height": 435
        },
        "id": "dGWgO0g0Y1TD",
        "outputId": "c4dcf539-9445-4434-8871-aa3d0a0f1aa5"
      },
      "source": [
        "print(up_twok['loudness'].describe())\n",
        "up_twok['loudness'].plot(kind='hist') # -5.0/-6.0 db is the sweet spot"
      ],
      "execution_count": 38,
      "outputs": [
        {
          "output_type": "stream",
          "text": [
            "count    5265.000000\n",
            "mean       -5.895270\n",
            "std         2.233313\n",
            "min       -19.468000\n",
            "25%        -7.031000\n",
            "50%        -5.547000\n",
            "75%        -4.330000\n",
            "max        -0.463000\n",
            "Name: loudness, dtype: float64\n"
          ],
          "name": "stdout"
        },
        {
          "output_type": "execute_result",
          "data": {
            "text/plain": [
              "<matplotlib.axes._subplots.AxesSubplot at 0x7f22ffbd9f10>"
            ]
          },
          "metadata": {},
          "execution_count": 38
        },
        {
          "output_type": "display_data",
          "data": {
            "image/png": "[encoded data removed]",
            "text/plain": [
              "<Figure size 432x288 with 1 Axes>"
            ]
          },
          "metadata": {
            "needs_background": "light"
          }
        }
      ]
    },
    {
      "cell_type": "code",
      "metadata": {
        "colab": {
          "base_uri": "https://localhost:8080/",
          "height": 282
        },
        "id": "VkjBUnDb7nPN",
        "outputId": "5d35051a-6090-482c-8e18-335a0f181d9a"
      },
      "source": [
        "up_twok['speechiness'].plot(kind='hist') # Confirms we're not using any podcasts"
      ],
      "execution_count": 39,
      "outputs": [
        {
          "output_type": "execute_result",
          "data": {
            "text/plain": [
              "<matplotlib.axes._subplots.AxesSubplot at 0x7f22ffb62550>"
            ]
          },
          "metadata": {},
          "execution_count": 39
        },
        {
          "output_type": "display_data",
          "data": {
            "image/png": "[encoded data removed]",
            "text/plain": [
              "<Figure size 432x288 with 1 Axes>"
            ]
          },
          "metadata": {
            "needs_background": "light"
          }
        }
      ]
    },
    {
      "cell_type": "code",
      "metadata": {
        "colab": {
          "base_uri": "https://localhost:8080/",
          "height": 435
        },
        "id": "7YrURoYizz13",
        "outputId": "c9acceec-8355-43aa-eeb3-e18d5b3a68d8"
      },
      "source": [
        "print(up_twok['tempo'].describe())\n",
        "up_twok['tempo'].plot(kind='hist') # vast majority of songs are [80-140]"
      ],
      "execution_count": 40,
      "outputs": [
        {
          "output_type": "stream",
          "text": [
            "count    5265.000000\n",
            "mean      122.745489\n",
            "std        29.468039\n",
            "min        48.000000\n",
            "25%        99.000000\n",
            "50%       121.000000\n",
            "75%       142.000000\n",
            "max       211.000000\n",
            "Name: tempo, dtype: float64\n"
          ],
          "name": "stdout"
        },
        {
          "output_type": "execute_result",
          "data": {
            "text/plain": [
              "<matplotlib.axes._subplots.AxesSubplot at 0x7f22ffad3590>"
            ]
          },
          "metadata": {},
          "execution_count": 40
        },
        {
          "output_type": "display_data",
          "data": {
            "image/png": "[encoded data removed]",
            "text/plain": [
              "<Figure size 432x288 with 1 Axes>"
            ]
          },
          "metadata": {
            "needs_background": "light"
          }
        }
      ]
    },
    {
      "cell_type": "code",
      "metadata": {
        "colab": {
          "base_uri": "https://localhost:8080/",
          "height": 435
        },
        "id": "oq5A0hEIZaVd",
        "outputId": "f94fa038-6efa-4f88-eb36-e6bbe53049b8"
      },
      "source": [
        "print(up_twok['time_signature'].describe())\n",
        "up_twok['time_signature'].plot(kind='hist') # everything is 4/4..."
      ],
      "execution_count": 41,
      "outputs": [
        {
          "output_type": "stream",
          "text": [
            "count    5265.000000\n",
            "mean        3.963153\n",
            "std         0.272488\n",
            "min         1.000000\n",
            "25%         4.000000\n",
            "50%         4.000000\n",
            "75%         4.000000\n",
            "max         5.000000\n",
            "Name: time_signature, dtype: float64\n"
          ],
          "name": "stdout"
        },
        {
          "output_type": "execute_result",
          "data": {
            "text/plain": [
              "<matplotlib.axes._subplots.AxesSubplot at 0x7f22ffbf2ed0>"
            ]
          },
          "metadata": {},
          "execution_count": 41
        },
        {
          "output_type": "display_data",
          "data": {
            "image/png": "[encoded data removed]",
            "text/plain": [
              "<Figure size 432x288 with 1 Axes>"
            ]
          },
          "metadata": {
            "needs_background": "light"
          }
        }
      ]
    },
    {
      "cell_type": "code",
      "metadata": {
        "colab": {
          "base_uri": "https://localhost:8080/",
          "height": 435
        },
        "id": "QjtkvxaQZwUI",
        "outputId": "f8798a26-c78d-4b26-c617-e0b016c3ea16"
      },
      "source": [
        "print(up_twok['mode'].describe())\n",
        "up_twok['mode'].plot(kind='hist') # Pretty surprising split"
      ],
      "execution_count": 42,
      "outputs": [
        {
          "output_type": "stream",
          "text": [
            "count    5265.000000\n",
            "mean        0.697436\n",
            "std         0.459412\n",
            "min         0.000000\n",
            "25%         0.000000\n",
            "50%         1.000000\n",
            "75%         1.000000\n",
            "max         1.000000\n",
            "Name: mode, dtype: float64\n"
          ],
          "name": "stdout"
        },
        {
          "output_type": "execute_result",
          "data": {
            "text/plain": [
              "<matplotlib.axes._subplots.AxesSubplot at 0x7f22ff997190>"
            ]
          },
          "metadata": {},
          "execution_count": 42
        },
        {
          "output_type": "display_data",
          "data": {
            "image/png": "[encoded data removed]",
            "text/plain": [
              "<Figure size 432x288 with 1 Axes>"
            ]
          },
          "metadata": {
            "needs_background": "light"
          }
        }
      ]
    },
    {
      "cell_type": "markdown",
      "metadata": {
        "id": "Dah-3l0VZ8bJ"
      },
      "source": [
        "# Grouping relevant Features for further EDA"
      ]
    },
    {
      "cell_type": "code",
      "metadata": {
        "colab": {
          "base_uri": "https://localhost:8080/"
        },
        "id": "SaunTTboaBa9",
        "outputId": "172318c1-3c68-4168-fd4a-110ca036c2cf"
      },
      "source": [
        "bins = [0, 80,90,100,110,120,130,140,150]\n",
        "labels = ['<80','80-90', '90-100', '100-110', '110-120', '120-130', '130-140', '140+']\n",
        "up_twok['tempo_binned'] = pd.cut(up_twok['tempo'], bins=bins, labels=labels, right=False)\n",
        "up_twok['tempo_binned'].value_counts()\n",
        "# up_twok.groupby('')['tempo'].mean().plot(kind='bar') "
      ],
      "execution_count": 43,
      "outputs": [
        {
          "output_type": "execute_result",
          "data": {
            "text/plain": [
              "120-130    764\n",
              "90-100     653\n",
              "100-110    585\n",
              "130-140    564\n",
              "110-120    514\n",
              "140+       511\n",
              "80-90      407\n",
              "<80        273\n",
              "Name: tempo_binned, dtype: int64"
            ]
          },
          "metadata": {},
          "execution_count": 43
        }
      ]
    },
    {
      "cell_type": "code",
      "metadata": {
        "colab": {
          "base_uri": "https://localhost:8080/",
          "height": 265
        },
        "id": "RpfA8b5WgtzT",
        "outputId": "a0f60217-3328-4286-92f6-403cba1faa1c"
      },
      "source": [
        "up_twok.groupby('tempo_binned')['energy'].plot(kind='hist', legend=True, alpha=0.5);"
      ],
      "execution_count": 44,
      "outputs": [
        {
          "output_type": "display_data",
          "data": {
            "image/png": "[encoded data removed]",
            "text/plain": [
              "<Figure size 432x288 with 1 Axes>"
            ]
          },
          "metadata": {
            "needs_background": "light"
          }
        }
      ]
    },
    {
      "cell_type": "code",
      "metadata": {
        "colab": {
          "base_uri": "https://localhost:8080/",
          "height": 265
        },
        "id": "YU-l9XG8iYyb",
        "outputId": "71773081-f1b7-41ee-a59f-a41c37f7ab60"
      },
      "source": [
        "up_twok.groupby('tempo_binned')['danceability'].plot(kind='hist', legend=True, alpha=0.5);"
      ],
      "execution_count": 45,
      "outputs": [
        {
          "output_type": "display_data",
          "data": {
            "image/png": "[encoded data removed]",
            "text/plain": [
              "<Figure size 432x288 with 1 Axes>"
            ]
          },
          "metadata": {
            "needs_background": "light"
          }
        }
      ]
    },
    {
      "cell_type": "markdown",
      "metadata": {
        "id": "S-6LiRJdiNmE"
      },
      "source": [
        "#### Tempo_Binned with Danceability and Energy\n",
        "\n",
        "As expected, our results show that when we group by Tempo, there is a correlation between high tempo and high energy/danceability. "
      ]
    },
    {
      "cell_type": "code",
      "metadata": {
        "colab": {
          "base_uri": "https://localhost:8080/",
          "height": 435
        },
        "id": "vbduz9N9jwNB",
        "outputId": "57e59972-e043-46ac-eae7-d01da5459664"
      },
      "source": [
        "up_twok.groupby('tempo_binned')['key'].plot(kind='hist', legend=True, alpha=0.5) # There is no correlation between tempo and key!"
      ],
      "execution_count": 46,
      "outputs": [
        {
          "output_type": "execute_result",
          "data": {
            "text/plain": [
              "tempo_binned\n",
              "<80        AxesSubplot(0.125,0.125;0.775x0.755)\n",
              "80-90      AxesSubplot(0.125,0.125;0.775x0.755)\n",
              "90-100     AxesSubplot(0.125,0.125;0.775x0.755)\n",
              "100-110    AxesSubplot(0.125,0.125;0.775x0.755)\n",
              "110-120    AxesSubplot(0.125,0.125;0.775x0.755)\n",
              "120-130    AxesSubplot(0.125,0.125;0.775x0.755)\n",
              "130-140    AxesSubplot(0.125,0.125;0.775x0.755)\n",
              "140+       AxesSubplot(0.125,0.125;0.775x0.755)\n",
              "Name: key, dtype: object"
            ]
          },
          "metadata": {},
          "execution_count": 46
        },
        {
          "output_type": "display_data",
          "data": {
            "image/png": "[encoded data removed]",
            "text/plain": [
              "<Figure size 432x288 with 1 Axes>"
            ]
          },
          "metadata": {
            "needs_background": "light"
          }
        }
      ]
    },
    {
      "cell_type": "markdown",
      "metadata": {
        "id": "yCoynOMikcmw"
      },
      "source": [
        "# Machine Learning Exploration\n",
        "\n",
        "Let's see if we can predict tempo using **energy, danceability, loudness, liveness**. "
      ]
    },
    {
      "cell_type": "code",
      "metadata": {
        "id": "PZg9U2bRksxM"
      },
      "source": [
        "from sklearn.neighbors import KNeighborsRegressor"
      ],
      "execution_count": 47,
      "outputs": []
    },
    {
      "cell_type": "code",
      "metadata": {
        "id": "7kkdm-gtkGg9"
      },
      "source": [
        "up_twok # predict tempo using energy, danceability, loudness, liveness\n",
        "x_train = up_twok[['energy', 'danceability', 'loudness', 'liveness']]\n",
        "y_train = up_twok['tempo']\n",
        "x_train = x_train.fillna(0)\n",
        "y_train = y_train.fillna(0)"
      ],
      "execution_count": 48,
      "outputs": []
    },
    {
      "cell_type": "code",
      "metadata": {
        "colab": {
          "base_uri": "https://localhost:8080/"
        },
        "id": "4B2HwdwwlLSm",
        "outputId": "e48c3435-8bf2-4523-a95e-309816b06940"
      },
      "source": [
        "knn_reg = KNeighborsRegressor(n_neighbors=20)\n",
        "knn_reg.fit(X=x_train, y=y_train)"
      ],
      "execution_count": 49,
      "outputs": [
        {
          "output_type": "execute_result",
          "data": {
            "text/plain": [
              "KNeighborsRegressor(algorithm='auto', leaf_size=30, metric='minkowski',\n",
              "                    metric_params=None, n_jobs=None, n_neighbors=20, p=2,\n",
              "                    weights='uniform')"
            ]
          },
          "metadata": {},
          "execution_count": 49
        }
      ]
    },
    {
      "cell_type": "code",
      "metadata": {
        "colab": {
          "base_uri": "https://localhost:8080/"
        },
        "id": "ZMp7c700lo_l",
        "outputId": "9616f570-9d3a-44b2-de4a-2ef79a69ef5f"
      },
      "source": [
        "gotta_man = [0.867, 0.800, -4.001, 0.1140]\n",
        "knn_reg.predict(X=[gotta_man])"
      ],
      "execution_count": 50,
      "outputs": [
        {
          "output_type": "execute_result",
          "data": {
            "text/plain": [
              "array([112.2])"
            ]
          },
          "metadata": {},
          "execution_count": 50
        }
      ]
    },
    {
      "cell_type": "code",
      "metadata": {
        "colab": {
          "base_uri": "https://localhost:8080/",
          "height": 117
        },
        "id": "-b1MiKSrmKtr",
        "outputId": "4554b099-dee5-452a-d207-96fb6fc266cd"
      },
      "source": [
        "up_twok.head(1)"
      ],
      "execution_count": 51,
      "outputs": [
        {
          "output_type": "execute_result",
          "data": {
            "text/html": [
              "<div>\n",
              "<style scoped>\n",
              "    .dataframe tbody tr th:only-of-type {\n",
              "        vertical-align: middle;\n",
              "    }\n",
              "\n",
              "    .dataframe tbody tr th {\n",
              "        vertical-align: top;\n",
              "    }\n",
              "\n",
              "    .dataframe thead th {\n",
              "        text-align: right;\n",
              "    }\n",
              "</style>\n",
              "<table border=\"1\" class=\"dataframe\">\n",
              "  <thead>\n",
              "    <tr style=\"text-align: right;\">\n",
              "      <th></th>\n",
              "      <th>date</th>\n",
              "      <th>title</th>\n",
              "      <th>artist</th>\n",
              "      <th>rank</th>\n",
              "      <th>ID</th>\n",
              "      <th>acousticness</th>\n",
              "      <th>danceability</th>\n",
              "      <th>duration_ms</th>\n",
              "      <th>energy</th>\n",
              "      <th>instrumentalness</th>\n",
              "      <th>key</th>\n",
              "      <th>liveness</th>\n",
              "      <th>loudness</th>\n",
              "      <th>speechiness</th>\n",
              "      <th>tempo</th>\n",
              "      <th>time_signature</th>\n",
              "      <th>mode</th>\n",
              "      <th>duration</th>\n",
              "      <th>tempo_binned</th>\n",
              "    </tr>\n",
              "  </thead>\n",
              "  <tbody>\n",
              "    <tr>\n",
              "      <th>0</th>\n",
              "      <td>2000-01-01</td>\n",
              "      <td>Gotta Man</td>\n",
              "      <td>Eve</td>\n",
              "      <td>97.0</td>\n",
              "      <td>spotify:track:5GDzpCJAhKjfzMEiXpYdhl</td>\n",
              "      <td>0.165</td>\n",
              "      <td>0.8</td>\n",
              "      <td>264733.0</td>\n",
              "      <td>0.867</td>\n",
              "      <td>0.000352</td>\n",
              "      <td>5.0</td>\n",
              "      <td>0.114</td>\n",
              "      <td>-4.001</td>\n",
              "      <td>0.133</td>\n",
              "      <td>91.0</td>\n",
              "      <td>4.0</td>\n",
              "      <td>0.0</td>\n",
              "      <td>4.412217</td>\n",
              "      <td>90-100</td>\n",
              "    </tr>\n",
              "  </tbody>\n",
              "</table>\n",
              "</div>"
            ],
            "text/plain": [
              "         date      title artist  ...  mode  duration  tempo_binned\n",
              "0  2000-01-01  Gotta Man    Eve  ...   0.0  4.412217        90-100\n",
              "\n",
              "[1 rows x 19 columns]"
            ]
          },
          "metadata": {},
          "execution_count": 51
        }
      ]
    },
    {
      "cell_type": "code",
      "metadata": {
        "colab": {
          "base_uri": "https://localhost:8080/",
          "height": 165
        },
        "id": "fPIb55xUnWMs",
        "outputId": "ffc9f5b3-9c26-4b2b-ee59-7eb34ef405d6"
      },
      "source": [
        "up_twok.tail(2)"
      ],
      "execution_count": 52,
      "outputs": [
        {
          "output_type": "execute_result",
          "data": {
            "text/html": [
              "<div>\n",
              "<style scoped>\n",
              "    .dataframe tbody tr th:only-of-type {\n",
              "        vertical-align: middle;\n",
              "    }\n",
              "\n",
              "    .dataframe tbody tr th {\n",
              "        vertical-align: top;\n",
              "    }\n",
              "\n",
              "    .dataframe thead th {\n",
              "        text-align: right;\n",
              "    }\n",
              "</style>\n",
              "<table border=\"1\" class=\"dataframe\">\n",
              "  <thead>\n",
              "    <tr style=\"text-align: right;\">\n",
              "      <th></th>\n",
              "      <th>date</th>\n",
              "      <th>title</th>\n",
              "      <th>artist</th>\n",
              "      <th>rank</th>\n",
              "      <th>ID</th>\n",
              "      <th>acousticness</th>\n",
              "      <th>danceability</th>\n",
              "      <th>duration_ms</th>\n",
              "      <th>energy</th>\n",
              "      <th>instrumentalness</th>\n",
              "      <th>key</th>\n",
              "      <th>liveness</th>\n",
              "      <th>loudness</th>\n",
              "      <th>speechiness</th>\n",
              "      <th>tempo</th>\n",
              "      <th>time_signature</th>\n",
              "      <th>mode</th>\n",
              "      <th>duration</th>\n",
              "      <th>tempo_binned</th>\n",
              "    </tr>\n",
              "  </thead>\n",
              "  <tbody>\n",
              "    <tr>\n",
              "      <th>5265</th>\n",
              "      <td>2018-07-12</td>\n",
              "      <td>Esskeetit</td>\n",
              "      <td>Lil Pump</td>\n",
              "      <td>68.0</td>\n",
              "      <td>spotify:track:44KKhCyI0BGS6LvVyDqJtH</td>\n",
              "      <td>0.02290</td>\n",
              "      <td>0.934</td>\n",
              "      <td>181714.0</td>\n",
              "      <td>0.505</td>\n",
              "      <td>0.0</td>\n",
              "      <td>11.0</td>\n",
              "      <td>0.0867</td>\n",
              "      <td>-7.648</td>\n",
              "      <td>0.1680</td>\n",
              "      <td>140.0</td>\n",
              "      <td>4.0</td>\n",
              "      <td>1.0</td>\n",
              "      <td>3.028567</td>\n",
              "      <td>140+</td>\n",
              "    </tr>\n",
              "    <tr>\n",
              "      <th>5266</th>\n",
              "      <td>2018-07-14</td>\n",
              "      <td>Fake Love</td>\n",
              "      <td>BTS</td>\n",
              "      <td>71.0</td>\n",
              "      <td>spotify:track:3aW0ds4A4tSQDIp75FqWTo</td>\n",
              "      <td>0.00267</td>\n",
              "      <td>0.557</td>\n",
              "      <td>242334.0</td>\n",
              "      <td>0.719</td>\n",
              "      <td>0.0</td>\n",
              "      <td>2.0</td>\n",
              "      <td>0.3060</td>\n",
              "      <td>-4.515</td>\n",
              "      <td>0.0372</td>\n",
              "      <td>78.0</td>\n",
              "      <td>4.0</td>\n",
              "      <td>0.0</td>\n",
              "      <td>4.038900</td>\n",
              "      <td>&lt;80</td>\n",
              "    </tr>\n",
              "  </tbody>\n",
              "</table>\n",
              "</div>"
            ],
            "text/plain": [
              "            date      title    artist  ...  mode  duration  tempo_binned\n",
              "5265  2018-07-12  Esskeetit  Lil Pump  ...   1.0  3.028567          140+\n",
              "5266  2018-07-14  Fake Love       BTS  ...   0.0  4.038900           <80\n",
              "\n",
              "[2 rows x 19 columns]"
            ]
          },
          "metadata": {},
          "execution_count": 52
        }
      ]
    },
    {
      "cell_type": "code",
      "metadata": {
        "colab": {
          "base_uri": "https://localhost:8080/"
        },
        "id": "ddZIy9eSnFbh",
        "outputId": "6d7d0472-6040-4c99-f190-3bb9713b70b9"
      },
      "source": [
        "BTS = [0.719, 0.557, -4.515, 0.306]\n",
        "ESK = [0.505, 0.934, -7.648, 0.0867]\n",
        "print(knn_reg.predict(X=[BTS]))\n",
        "print(knn_reg.predict(X=[ESK]))"
      ],
      "execution_count": 53,
      "outputs": [
        {
          "output_type": "stream",
          "text": [
            "[108.2]\n",
            "[112.3]\n"
          ],
          "name": "stdout"
        }
      ]
    },
    {
      "cell_type": "markdown",
      "metadata": {
        "id": "5zFHj_EVmz77"
      },
      "source": [
        "## Machine Learning Results\n",
        "\n",
        "We did a quick little test of how KNeighbors Regressor would perform when trying to predict something simple like *tempo*.\n",
        "\n",
        "We used a few examples, but either way you can see that it's still hard to predict."
      ]
    },
    {
      "cell_type": "markdown",
      "metadata": {
        "id": "r8Op8c5RoFZi"
      },
      "source": [
        "# Conclusion\n",
        "\n",
        "In conclusion, we can say that the Pop Songs from 2000-2018 featured very **energetic, danceable, fast** music that was often recorded in-studio. Pop Songs favor lyrics over instrumentals and the vast majority utilize the infamous *4 on the floor*.\n",
        "\n",
        "Something that surpised the both of us was the use of **Minor** scale. We thought it would be **Major** dominated, but it turned out to be a 70/30 split. \n",
        "In addition, most **Keys** were used uniformly, except for the key of C and C#.\n",
        "\n",
        "We also found a trend between the Tempo and the Energy and Danceability. In general, the higher the tempo, the more energetic and danceable the music is.\n",
        "\n",
        "\n",
        "If you want to make the next Pop hit, use a 4/4, 120 BPM, C Major Scale song, that utilizes its tempo to make a song that is both energetic and danceable. "
      ]
    }
  ]
}